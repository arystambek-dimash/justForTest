{
 "cells": [
  {
   "cell_type": "markdown",
   "metadata": {},
   "source": [
    "# Анализ данных туристов\n",
    "\n",
    "Этот ноутбук анализирует данные туристов из файла Excel 'Свод_Портрет_туриста_лето_зима_с_итогами.xlsx'."
   ]
  },
  {
   "cell_type": "code",
   "execution_count": null,
   "metadata": {},
   "outputs": [],
   "source": [
    "import pandas as pd\n",
    "import matplotlib.pyplot as plt\n",
    "import seaborn as sns\n",
    "import numpy as np\n",
    "\n",
    "# Установка стиля графиков\n",
    "plt.style.use('seaborn')\n",
    "# Настройка отображения русского языка\n",
    "plt.rcParams['font.family'] = 'DejaVu Sans'\n",
    "plt.rcParams['font.sans-serif'] = ['DejaVu Sans']\n",
    "\n",
    "# Загрузка данных\n",
    "df = pd.read_excel('Свод_Портрет_туриста_лето_зима_с_итогами.xlsx')\n",
    "\n",
    "# Вывод основной информации о датасете\n",
    "print(df.info())\n",
    "\n",
    "# Вывод первых нескольких строк датасета\n",
    "display(df.head())"
   ]
  },
  {
   "cell_type": "markdown",
   "metadata": {},
   "source": [
    "## Очистка и предобработка данных"
   ]
  },
  {
   "cell_type": "code",
   "execution_count": null,
   "metadata": {},
   "outputs": [],
   "source": [
    "# Проверка на пропущенные значения\n",
    "print(df.isnull().sum())\n",
    "\n",
    "# Удаление строк, где все значения NaN\n",
    "df = df.dropna(how='all')\n",
    "\n",
    "# Сброс индекса после удаления строк\n",
    "df = df.reset_index(drop=True)\n",
    "\n",
    "# Вывод первых нескольких строк после очистки\n",
    "display(df.head())"
   ]
  },
  {
   "cell_type": "markdown",
   "metadata": {},
   "source": [
    "## Анализ данных"
   ]
  },
  {
   "cell_type": "markdown",
   "metadata": {},
   "source": [
    "### 1. Распределение по возрасту"
   ]
  },
  {
   "cell_type": "code",
   "execution_count": null,
   "metadata": {},
   "outputs": [],
   "source": [
    "age_columns = ['18-25', '26-35', '36-45', '46-55', 'старше 55 лет']\n",
    "age_data = df[age_columns].sum().reset_index()\n",
    "age_data.columns = ['Возрастная группа', 'Количество']\n",
    "\n",
    "plt.figure(figsize=(12, 6))\n",
    "sns.barplot(x='Возрастная группа', y='Количество', data=age_data)\n",
    "plt.title('Распределение туристов по возрасту')\n",
    "plt.xlabel('Возрастная группа')\n",
    "plt.ylabel('Количество')\n",
    "plt.xticks(rotation=0)\n",
    "plt.tight_layout()\n",
    "plt.show()"
   ]
  },
  {
   "cell_type": "markdown",
   "metadata": {},
   "source": [
    "### 2. Распределение по полу"
   ]
  },
  {
   "cell_type": "code",
   "execution_count": null,
   "metadata": {},
   "outputs": [],
   "source": [
    "gender_data = df[['Мужской', 'Женский']].sum()\n",
    "\n",
    "plt.figure(figsize=(10, 10))\n",
    "gender_data.plot(kind='pie', autopct='%1.1f%%')\n",
    "plt.title('Распределение туристов по полу')\n",
    "plt.ylabel('')  # Удаляем подпись оси y\n",
    "plt.tight_layout()\n",
    "plt.show()"
   ]
  },
  {
   "cell_type": "markdown",
   "metadata": {},
   "source": [
    "### 3. Распределение по стране проживания"
   ]
  },
  {
   "cell_type": "code",
   "execution_count": null,
   "metadata": {},
   "outputs": [],
   "source": [
    "country_columns = df.columns[7:]  # Предполагаем, что столбцы стран начинаются с индекса 7\n",
    "country_data = df[country_columns].sum().sort_values(ascending=False).head(10)\n",
    "\n",
    "plt.figure(figsize=(14, 7))\n",
    "sns.barplot(x=country_data.index, y=country_data.values)\n",
    "plt.title('Топ-10 стран проживания туристов')\n",
    "plt.xlabel('Страна')\n",
    "plt.ylabel('Количество')\n",
    "plt.xticks(rotation=45, ha='right')\n",
    "plt.tight_layout()\n",
    "plt.show()"
   ]
  },
  {
   "cell_type": "markdown",
   "metadata": {},
   "source": [
    "### 4. Предпочтения по типу размещения"
   ]
  },
  {
   "cell_type": "code",
   "execution_count": null,
   "metadata": {},
   "outputs": [],
   "source": [
    "# Предполагаем, что у нас есть данные о типах размещения\n",
    "# Если таких данных нет, этот код нужно будет адаптировать\n",
    "accommodation_types = ['Отель 5*', 'Отель 4*', 'Отель 3*', 'Апартаменты', 'У родственников']\n",
    "accommodation_data = df[accommodation_types].sum().sort_values(ascending=False)\n",
    "\n",
    "plt.figure(figsize=(12, 6))\n",
    "sns.barplot(x=accommodation_data.index, y=accommodation_data.values)\n",
    "plt.title('Предпочтения туристов по типу размещения')\n",
    "plt.xlabel('Тип размещения')\n",
    "plt.ylabel('Количество')\n",
    "plt.xticks(rotation=45, ha='right')\n",
    "plt.tight_layout()\n",
    "plt.show()"
   ]
  },
  {
   "cell_type": "markdown",
   "metadata": {},
   "source": [
    "### 5. Популярные виды туризма"
   ]
  },
  {
   "cell_type": "code",
   "execution_count": null,
   "metadata": {},
   "outputs": [],
   "source": [
    "# Предполагаем, что у нас есть данные о видах туризма\n",
    "# Если таких данных нет, этот код нужно будет адаптировать\n",
    "tourism_types = ['Экотуризм', 'Гастротуризм', 'Культурный туризм', 'Пляжный отдых', 'Горнолыжный туризм']\n",
    "tourism_data = df[tourism_types].sum().sort_values(ascending=False)\n",
    "\n",
    "plt.figure(figsize=(12, 6))\n",
    "sns.barplot(x=tourism_data.index, y=tourism_data.values)\n",
    "plt.title('Популярные виды туризма')\n",
    "plt.xlabel('Вид туризма')\n",
    "plt.ylabel('Количество')\n",
    "plt.xticks(rotation=45, ha='right')\n",
    "plt.tight_layout()\n",
    "plt.show()"
   ]
  },
  {
   "cell_type": "markdown",
   "metadata": {},
   "source": [
    "### 6. Средние расходы в день"
   ]
  },
  {
   "cell_type": "code",
   "execution_count": null,
   "metadata": {},
   "outputs": [],
   "source": [
    "# Предполагаем, что у нас есть данные о расходах\n",
    "# Если таких данных нет, этот код нужно будет адаптировать\n",
    "expense_categories = ['Проживание', 'Питание', 'Транспорт', 'Развлечения', 'Шоппинг']\n",
    "expense_data = df[expense_categories].mean()\n",
    "\n",
    "plt.figure(figsize=(12, 6))\n",
    "sns.barplot(x=expense_data.index, y=expense_data.values)\n",
    "plt.title('Средние ежедневные расходы туристов по категориям')\n",
    "plt.xlabel('Категория расходов')\n",
    "plt.ylabel('Средний расход (руб.)')\n",
    "plt.xticks(rotation=45, ha='right')\n",
    "plt.tight_layout()\n",
    "plt.show()"
   ]
  },
  {
   "cell_type": "markdown",
   "metadata": {},
   "source": [
    "## Заключение\n",
    "\n",
    "Этот ноутбук предоставляет базовый анализ данных о туристах. Вы можете добавить более конкретные анализы на основе ваших потребностей и фактической структуры вашего файла Excel."
   ]
  }
 ],
 "metadata": {
  "kernelspec": {
   "display_name": "Python 3",
   "language": "python",
   "name": "python3"
  },
  "language_info": {
   "codemirror_mode": {
    "name": "ipython",
    "version": 3
   },
   "file_extension": ".py",
   "mimetype": "text/x-python",
   "name": "python",
   "nbconvert_exporter": "python",
   "pygments_lexer": "ipython3",
   "version": "3.8.8"
  }
 },
 "nbformat": 4,
 "nbformat_minor": 4
}
