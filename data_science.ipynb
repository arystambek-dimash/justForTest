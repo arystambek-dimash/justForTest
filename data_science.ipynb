{
 "cells": [
  {
   "cell_type": "markdown",
   "metadata": {},
   "source": [
    "# Tourist Data Analysis\n",
    "\n",
    "This notebook analyzes tourist data from the Excel file 'Свод_Портрет_туриста_лето_зима_с_итогами.xlsx'."
   ]
  },
  {
   "cell_type": "code",
   "execution_count": null,
   "metadata": {},
   "outputs": [],
   "source": [
    "import pandas as pd\n",
    "import matplotlib.pyplot as plt\n",
    "import seaborn as sns\n",
    "\n",
    "# Set plot style\n",
    "plt.style.use('seaborn')\n",
    "\n",
    "# Load the data\n",
    "df = pd.read_excel('Свод_Портрет_туриста_лето_зима_с_итогами.xlsx')\n",
    "\n",
    "# Display basic information about the dataset\n",
    "print(df.info())\n",
    "\n",
    "# Display the first few rows of the dataset\n",
    "display(df.head())"
   ]
  },
  {
   "cell_type": "markdown",
   "metadata": {},
   "source": [
    "## Data Cleaning and Preprocessing"
   ]
  },
  {
   "cell_type": "code",
   "execution_count": null,
   "metadata": {},
   "outputs": [],
   "source": [
    "# Check for missing values\n",
    "print(df.isnull().sum())\n",
    "\n",
    "# Remove rows with all NaN values\n",
    "df = df.dropna(how='all')\n",
    "\n",
    "# Reset index after dropping rows\n",
    "df = df.reset_index(drop=True)\n",
    "\n",
    "# Display the first few rows after cleaning\n",
    "display(df.head())"
   ]
  },
  {
   "cell_type": "markdown",
   "metadata": {},
   "source": [
    "## Exploratory Data Analysis"
   ]
  },
  {
   "cell_type": "code",
   "execution_count": null,
   "metadata": {},
   "outputs": [],
   "source": [
    "# Analyze age distribution\n",
    "age_columns = ['18-25', '26-35', '36-45', '46-55', 'старше 55 лет']\n",
    "age_data = df[age_columns].sum().reset_index()\n",
    "age_data.columns = ['Age Group', 'Count']\n",
    "\n",
    "plt.figure(figsize=(10, 6))\n",
    "sns.barplot(x='Age Group', y='Count', data=age_data)\n",
    "plt.title('Age Distribution of Tourists')\n",
    "plt.xlabel('Age Group')\n",
    "plt.ylabel('Count')\n",
    "plt.xticks(rotation=45)\n",
    "plt.show()"
   ]
  },
  {
   "cell_type": "code",
   "execution_count": null,
   "metadata": {},
   "outputs": [],
   "source": [
    "# Analyze gender distribution\n",
    "gender_data = df[['Мужской', 'Женский']].sum()\n",
    "\n",
    "plt.figure(figsize=(8, 8))\n",
    "gender_data.plot(kind='pie', autopct='%1.1f%%')\n",
    "plt.title('Gender Distribution of Tourists')\n",
    "plt.ylabel('')  # Remove y-label\n",
    "plt.show()"
   ]
  },
  {
   "cell_type": "code",
   "execution_count": null,
   "metadata": {},
   "outputs": [],
   "source": [
    "# Analyze top countries of origin\n",
    "country_columns = df.columns[7:]  # Assuming country columns start from index 7\n",
    "country_data = df[country_columns].sum().sort_values(ascending=False).head(10)\n",
    "\n",
    "plt.figure(figsize=(12, 6))\n",
    "sns.barplot(x=country_data.index, y=country_data.values)\n",
    "plt.title('Top 10 Countries of Origin')\n",
    "plt.xlabel('Country')\n",
    "plt.ylabel('Count')\n",
    "plt.xticks(rotation=45, ha='right')\n",
    "plt.tight_layout()\n",
    "plt.show()"
   ]
  },
  {
   "cell_type": "markdown",
   "metadata": {},
   "source": [
    "## Statistical Analysis"
   ]
  },
  {
   "cell_type": "code",
   "execution_count": null,
   "metadata": {},
   "outputs": [],
   "source": [
    "# Perform basic statistical analysis on numerical columns\n",
    "numerical_columns = df.select_dtypes(include=[np.number]).columns\n",
    "display(df[numerical_columns].describe())"
   ]
  },
  {
   "cell_type": "markdown",
   "metadata": {},
   "source": [
    "## Conclusion\n",
    "\n",
    "This notebook provides a basic analysis of the tourist data. You can add more specific analyses based on your needs and the actual structure of your Excel file."
   ]
  }
 ],
 "metadata": {
  "kernelspec": {
   "display_name": "Python 3",
   "language": "python",
   "name": "python3"
  },
  "language_info": {
   "codemirror_mode": {
    "name": "ipython",
    "version": 3
   },
   "file_extension": ".py",
   "mimetype": "text/x-python",
   "name": "python",
   "nbconvert_exporter": "python",
   "pygments_lexer": "ipython3",
   "version": "3.8.8"
  }
 },
 "nbformat": 4,
 "nbformat_minor": 4
}
