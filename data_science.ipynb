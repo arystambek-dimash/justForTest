{
 "cells": [
  {
   "cell_type": "markdown",
   "metadata": {},
   "source": [
    "# Анализ данных о туристах\n",
    "\n",
    "Этот ноутбук анализирует данные о туристах из файла 'Свод_Портрет_туриста_лето_зима_с_итогами.xlsx'."
   ]
  },
  {
   "cell_type": "code",
   "execution_count": null,
   "metadata": {},
   "outputs": [],
   "source": [
    "import pandas as pd\n",
    "import matplotlib.pyplot as plt\n",
    "import seaborn as sns\n",
    "import numpy as np\n",
    "\n",
    "# Настройка стиля графиков\n",
    "plt.style.use('seaborn')\n",
    "plt.rcParams['font.family'] = 'DejaVu Sans'\n",
    "plt.rcParams['axes.unicode_minus'] = False\n",
    "\n",
    "# Загрузка данных\n",
    "df = pd.read_excel('Свод_Портрет_туриста_лето_зима_с_итогами.xlsx')\n",
    "\n",
    "# Отображение базовой информации о наборе данных\n",
    "print(df.info())\n",
    "\n",
    "# Отображение первых нескольких строк набора данных\n",
    "display(df.head())"
   ]
  },
  {
   "cell_type": "markdown",
   "metadata": {},
   "source": [
    "## Очистка и предобработка данных"
   ]
  },
  {
   "cell_type": "code",
   "execution_count": null,
   "metadata": {},
   "outputs": [],
   "source": [
    "# Проверка на наличие пропущенных значений\n",
    "print(df.isnull().sum())\n",
    "\n",
    "# Удаление строк, где все значения NaN\n",
    "df = df.dropna(how='all')\n",
    "\n",
    "# Сброс индекса после удаления строк\n",
    "df = df.reset_index(drop=True)\n",
    "\n",
    "# Отображение первых нескольких строк после очистки\n",
    "display(df.head())"
   ]
  },
  {
   "cell_type": "markdown",
   "metadata": {},
   "source": [
    "## Разведочный анализ данных"
   ]
  },
  {
   "cell_type": "code",
   "execution_count": null,
   "metadata": {},
   "outputs": [],
   "source": [
    "# 1. Распределение по возрасту\n",
    "age_columns = ['18-25', '26-35', '36-45', '46-55', 'старше 55 лет']\n",
    "age_data = df[age_columns].sum().reset_index()\n",
    "age_data.columns = ['Возрастная группа', 'Количество']\n",
    "\n",
    "plt.figure(figsize=(10, 6))\n",
    "sns.barplot(x='Возрастная группа', y='Количество', data=age_data)\n",
    "plt.title('Распределение туристов по возрасту')\n",
    "plt.xlabel('Возрастная группа')\n",
    "plt.ylabel('Количество')\n",
    "plt.xticks(rotation=45)\n",
    "plt.tight_layout()\n",
    "plt.show()"
   ]
  },
  {
   "cell_type": "code",
   "execution_count": null,
   "metadata": {},
   "outputs": [],
   "source": [
    "# 2. Распределение по полу\n",
    "gender_data = df[['Мужской', 'Женский']].sum()\n",
    "\n",
    "plt.figure(figsize=(8, 8))\n",
    "gender_data.plot(kind='pie', autopct='%1.1f%%')\n",
    "plt.title('Распределение туристов по полу')\n",
    "plt.ylabel('')  # Удаление метки оси y\n",
    "plt.tight_layout()\n",
    "plt.show()"
   ]
  },
  {
   "cell_type": "code",
   "execution_count": null,
   "metadata": {},
   "outputs": [],
   "source": [
    "# 3. Распределение по стране проживания\n",
    "country_columns = df.columns[7:]  # Предполагаем, что столбцы стран начинаются с индекса 7\n",
    "country_data = df[country_columns].sum().sort_values(ascending=False).head(10)\n",
    "\n",
    "plt.figure(figsize=(12, 6))\n",
    "sns.barplot(x=country_data.index, y=country_data.values)\n",
    "plt.title('Топ-10 стран проживания туристов')\n",
    "plt.xlabel('Страна')\n",
    "plt.ylabel('Количество')\n",
    "plt.xticks(rotation=45, ha='right')\n",
    "plt.tight_layout()\n",
    "plt.show()"
   ]
  },
  {
   "cell_type": "code",
   "execution_count": null,
   "metadata": {},
   "outputs": [],
   "source": [
    "# 4. Предпочтения по типу размещения\n",
    "# Предполагаем, что у нас есть столбцы для разных типов размещения\n",
    "accommodation_columns = ['Отель 5*', 'Отель 4*', 'Отель 3*', 'Апартаменты', 'Хостел']\n",
    "accommodation_data = df[accommodation_columns].sum().sort_values(ascending=False)\n",
    "\n",
    "plt.figure(figsize=(10, 6))\n",
    "sns.barplot(x=accommodation_data.index, y=accommodation_data.values)\n",
    "plt.title('Предпочтения туристов по типу размещения')\n",
    "plt.xlabel('Тип размещения')\n",
    "plt.ylabel('Количество')\n",
    "plt.xticks(rotation=45)\n",
    "plt.tight_layout()\n",
    "plt.show()"
   ]
  },
  {
   "cell_type": "code",
   "execution_count": null,
   "metadata": {},
   "outputs": [],
   "source": [
    "# 5. Популярные виды туризма\n",
    "# Предполагаем, что у нас есть столбцы для разных видов туризма\n",
    "tourism_types = ['Эко-туризм', 'Гастро-туризм', 'Культурный туризм', 'Пляжный отдых', 'Горнолыжный туризм']\n",
    "tourism_data = df[tourism_types].sum().sort_values(ascending=False)\n",
    "\n",
    "plt.figure(figsize=(10, 6))\n",
    "sns.barplot(x=tourism_data.index, y=tourism_data.values)\n",
    "plt.title('Популярные виды туризма')\n",
    "plt.xlabel('Вид туризма')\n",
    "plt.ylabel('Количество')\n",
    "plt.xticks(rotation=45)\n",
    "plt.tight_layout()\n",
    "plt.show()"
   ]
  },
  {
   "cell_type": "code",
   "execution_count": null,
   "metadata": {},
   "outputs": [],
   "source": [
    "# 6. Траты туристов по категориям\n",
    "# Предполагаем, что у нас есть столбцы для разных категорий трат\n",
    "spending_categories = ['Проживание', 'Питание', 'Транспорт', 'Развлечения', 'Шоппинг']\n",
    "spending_data = df[spending_categories].sum()\n",
    "\n",
    "plt.figure(figsize=(10, 10))\n",
    "plt.pie(spending_data.values, labels=spending_data.index, autopct='%1.1f%%')\n",
    "plt.title('Распределение трат туристов по категориям')\n",
    "plt.axis('equal')\n",
    "plt.tight_layout()\n",
    "plt.show()"
   ]
  },
  {
   "cell_type": "code",
   "execution_count": null,
   "metadata": {},
   "outputs": [],
   "source": [
    "# 7. Средние расходы в день\n",
    "# Предполагаем, что у нас есть столбец с данными о средних расходах в день\n",
    "daily_spending = df['Средние расходы в день'].describe()\n",
    "\n",
    "print(\"Статистика по средним расходам в день:\")\n",
    "print(daily_spending)\n",
    "\n",
    "plt.figure(figsize=(10, 6))\n",
    "sns.histplot(df['Средние расходы в день'], kde=True)\n",
    "plt.title('Распределение средних расходов в день')\n",
    "plt.xlabel('Средние расходы в день')\n",
    "plt.ylabel('Количество туристов')\n",
    "plt.tight_layout()\n",
    "plt.show()"
   ]
  },
  {
   "cell_type": "markdown",
   "metadata": {},
   "source": [
    "## Статистический анализ"
   ]
  },
  {
   "cell_type": "code",
   "execution_count": null,
   "metadata": {},
   "outputs": [],
   "source": [
    "# Выполнение базового статистического анализа числовых столбцов\n",
    "numerical_columns = df.select_dtypes(include=[np.number]).columns\n",
    "display(df[numerical_columns].describe())"
   ]
  },
  {
   "cell_type": "markdown",
   "metadata": {},
   "source": [
    "## Заключение\n",
    "\n",
    "Этот ноутбук предоставляет базовый анализ данных о туристах. На основе полученных результатов можно сделать следующие выводы:\n",
    "\n",
    "1. Возрастное распределение туристов показывает, что...\n",
    "2. Гендерное распределение указывает на...\n",
    "3. Основные страны происхождения туристов - это...\n",
    "4. Наиболее популярные типы размещения среди туристов...\n",
    "5. Предпочтительные виды туризма включают...\n",
    "6. Большая часть расходов туристов приходится на...\n",
    "7. Средние ежедневные расходы туристов составляют...\n",
    "\n",
    "Эти выводы могут быть использованы для разработки маркетинговых стратегий, улучшения туристической инфраструктуры и повышения качества обслуживания туристов."
   ]
  }
 ],
 "metadata": {
  "kernelspec": {
   "display_name": "Python 3",
   "language": "python",
   "name": "python3"
  },
  "language_info": {
   "codemirror_mode": {
    "name": "ipython",
    "version": 3
   },
   "file_extension": ".py",
   "mimetype": "text/x-python",
   "name": "python",
   "nbconvert_exporter": "python",
   "pygments_lexer": "ipython3",
   "version": "3.8.8"
  }
 },
 "nbformat": 4,
 "nbformat_minor": 4
}
